{
 "cells": [
  {
   "cell_type": "code",
   "execution_count": 4,
   "metadata": {
    "collapsed": true
   },
   "outputs": [],
   "source": [
    "import torch.nn.functional as F\n",
    "from forestFire import ForestFire\n",
    "from torch import nn\n",
    "import torch\n",
    "import numpy as np\n",
    "import random"
   ]
  },
  {
   "cell_type": "markdown",
   "source": [
    "## Setup replay memory object"
   ],
   "metadata": {
    "collapsed": false
   }
  },
  {
   "cell_type": "code",
   "execution_count": 2,
   "outputs": [],
   "source": [
    "class ReplayMemory:\n",
    "    def __init__(self, size):\n",
    "        self.buffer = []\n",
    "        self.max_size = size\n",
    "        self.oldest_transition = 0\n",
    "\n",
    "    def sample(self, mb):\n",
    "        return random.sample(self.buffer, mb)\n",
    "\n",
    "    def new_transition(self, state, action, reward, next_state):\n",
    "        data = [state, action, reward, next_state]\n",
    "        # Check if buffer is full\n",
    "        if len(self.buffer) == self.max_size:\n",
    "            # Replace oldest value in the buffer\n",
    "            self.buffer[self.oldest_transition] = data\n",
    "            self.oldest_transition += 1\n",
    "            if self.oldest_transition == self.max_size:\n",
    "                self.oldest_transition = 0\n",
    "        else:\n",
    "            # Append to the end of buffer\n",
    "            self.buffer.append(data)"
   ],
   "metadata": {
    "collapsed": false,
    "pycharm": {
     "name": "#%%\n"
    }
   }
  },
  {
   "cell_type": "markdown",
   "source": [
    "# Create DQN"
   ],
   "metadata": {
    "collapsed": false
   }
  },
  {
   "cell_type": "code",
   "execution_count": null,
   "outputs": [],
   "source": [
    "device = torch.device(\"cuda\" if torch.cuda.is_available() else \"cpu\")\n",
    "class ForestFireDQN(nn.Module):\n",
    "    def __init__(self):\n",
    "        super(ForestFireDQN, self).__init__()\n",
    "        self.input_layer = nn.Linear(in_features=8, out_features=32)\n",
    "        self.hidden = nn.Linear(in_features=32, out_features=64)\n",
    "        self.output_layer = nn.Linear(in_features=64, out_features=4)\n",
    "\n",
    "    def forward(self, x):\n",
    "        x.to(device)\n",
    "        x = F.relu(self.input_layer(x))\n",
    "        x = F.relu(self.hidden(x))\n",
    "        x = self.output_layer(x)\n",
    "        return x"
   ],
   "metadata": {
    "collapsed": false,
    "pycharm": {
     "name": "#%%\n"
    }
   }
  },
  {
   "cell_type": "code",
   "execution_count": null,
   "outputs": [],
   "source": [
    "max_episodes = 1000\n",
    "memory = ReplayMemory(size=10000)\n",
    "minibatch_size = 128\n",
    "gamma = 0.99\n",
    "C = 5\n"
   ],
   "metadata": {
    "collapsed": false,
    "pycharm": {
     "name": "#%%\n"
    }
   }
  }
 ],
 "metadata": {
  "kernelspec": {
   "display_name": "Python 3",
   "language": "python",
   "name": "python3"
  },
  "language_info": {
   "codemirror_mode": {
    "name": "ipython",
    "version": 2
   },
   "file_extension": ".py",
   "mimetype": "text/x-python",
   "name": "python",
   "nbconvert_exporter": "python",
   "pygments_lexer": "ipython2",
   "version": "2.7.6"
  }
 },
 "nbformat": 4,
 "nbformat_minor": 0
}